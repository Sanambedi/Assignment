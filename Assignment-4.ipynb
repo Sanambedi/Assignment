{
 "cells": [
  {
   "cell_type": "code",
   "execution_count": 3,
   "id": "07914303-7ca0-4f2a-a55a-1fa532fc0cf1",
   "metadata": {},
   "outputs": [
    {
     "data": {
      "text/plain": [
       "[1, 3, 5, 7, 9, 11, 13, 15, 17, 19, 21, 23, 25]"
      ]
     },
     "execution_count": 3,
     "metadata": {},
     "output_type": "execute_result"
    }
   ],
   "source": [
    "#Anwer 1\n",
    "'''In python language \"def\" keyword is used to create a function'''\n",
    "def oddNumbers():\n",
    "    l = []\n",
    "    for i in range(1,26):\n",
    "        if i%2==1:\n",
    "            l.append(i)\n",
    "    return l\n",
    "oddNumbers()"
   ]
  },
  {
   "cell_type": "code",
   "execution_count": 7,
   "id": "158157c7-14a2-4cd9-bb23-ac587959b3db",
   "metadata": {},
   "outputs": [
    {
     "name": "stdout",
     "output_type": "stream",
     "text": [
      "*args Function\n",
      "apple\n",
      "banana\n",
      "orange\n",
      "\n",
      "\n",
      "\n",
      "**kwargs function\n",
      "fruit: apple\n",
      "color: red\n",
      "price: 1.0\n"
     ]
    }
   ],
   "source": [
    "#Answer2\n",
    "'''In python (*args) is used to allow an arbitrary number of arguments to be passed in a function. It is used to pass non-dictionary form of arguments in the function. Moreover args is just a sample name\n",
    "we can use any variable name instead of \"args\" for passing non-dictionary form of arguments with 1 star\"*\" in left hand side of the variable name.\n",
    "A sample function of the *args is given below.'''\n",
    "\n",
    "print(\"*args Function\")\n",
    "def my_function(*args):\n",
    "    for arg in args:\n",
    "        print(arg)\n",
    "        \n",
    "my_function('apple', 'banana', 'orange')\n",
    "\n",
    "'''On the other hand, (**kwargs) is used to allow an arbitrary number of arguments to be passed in a function that are of dictionary format. Same like args , \"kwargs\" is also just a sample name we can use\n",
    "any variable name instead of \"kwargs\" for passing dictionary or (key-valued pairs) form of arguments with 2 stars \"**\" in the left hand side of the variable name.\n",
    "A sample function of the **kwargs is given below'''\n",
    "\n",
    "print(\"\\n\\n\\n**kwargs function\")\n",
    "def my_function(**kwargs):\n",
    "    for key, value in kwargs.items():\n",
    "        print(f\"{key}: {value}\")\n",
    "        \n",
    "my_function(fruit='apple', color='red', price=1.00)\n"
   ]
  },
  {
   "cell_type": "code",
   "execution_count": 10,
   "id": "61a9adcf-d16d-40c2-971f-8a5baf6567f5",
   "metadata": {},
   "outputs": [
    {
     "name": "stdout",
     "output_type": "stream",
     "text": [
      "Iteration example\n",
      "1\n",
      "2\n",
      "3\n",
      "4\n",
      "5\n",
      "\n",
      "\n",
      "\n",
      "\n",
      "Solution to the problem\n",
      "2\n",
      "4\n",
      "6\n",
      "8\n",
      "10\n"
     ]
    }
   ],
   "source": [
    "#Answer3\n",
    "'''An iterator is an object that enables a python programmer to traverse a list, tuple or a dictionary and access each element in turn without having to know\n",
    "the underlying implementation details of that particular list, tuple or dictionary.\n",
    "An iterator in Python is defined by a class that implements the methods __iter__() and __next__().\n",
    "The __iter__() method returns the iterator object itself, while the __next__() method returns the next value from the iterator.\n",
    "When there are no more elements to return, the __next__() method should raise a StopIteration exception.'''\n",
    "print(\"Iteration example\")\n",
    "my_list = [1, 2, 3, 4, 5]\n",
    "\n",
    "my_iterator = iter(my_list)\n",
    "\n",
    "while True:\n",
    "    try:\n",
    "        # Get the next item from the iterator\n",
    "        number = next(my_iterator)\n",
    "        print(number)\n",
    "    except StopIteration:\n",
    "        # We have reached the end of the list\n",
    "        break\n",
    "\n",
    "print(\"\\n\\n\\n\\nSolution to the problem\")\n",
    "my_list = [2, 4, 6, 8, 10, 12, 14, 16, 18, 20]\n",
    "\n",
    "# Create an iterator object\n",
    "my_iterator = iter(my_list)\n",
    "\n",
    "# Iterate over the first five elements of the list\n",
    "for i in range(5):\n",
    "    # Get the next element of the list using the iterator\n",
    "    element = next(my_iterator)\n",
    "    print(element)"
   ]
  },
  {
   "cell_type": "code",
   "execution_count": 1,
   "id": "ebc8ccb3-c26c-4d10-b7cf-a382bac9e36d",
   "metadata": {},
   "outputs": [
    {
     "name": "stdout",
     "output_type": "stream",
     "text": [
      "Hello\n"
     ]
    }
   ],
   "source": [
    "print(\"Hello\")"
   ]
  },
  {
   "cell_type": "code",
   "execution_count": 9,
   "id": "bd889a03-5316-4fd0-8187-59899ecc6cd0",
   "metadata": {},
   "outputs": [
    {
     "name": "stdout",
     "output_type": "stream",
     "text": [
      "For Example:\n",
      "1\n",
      "2\n",
      "3\n",
      "4\n",
      "5\n",
      "6\n",
      "7\n",
      "8\n",
      "9\n",
      "10\n"
     ]
    }
   ],
   "source": [
    "#Answer4\n",
    "'''A generator-function is defined like a normal function, but whenever it needs to generate a value, it does so with the yield keyword rather than return.\n",
    "    If the body of a def contains yield, the function automatically becomes a generator function. \n",
    "    \n",
    "    Yield Keyword:-The yield statement suspends a function’s execution and sends a value back to the caller, but retains enough state to enable the function to resume where it left off.\n",
    "                    When the function resumes, it continues execution immediately after the last yield run. This allows its code to produce a series of values over time,\n",
    "                    rather than computing them at once and sending them back like a list.\n",
    "                    Return sends a specified value back to its caller whereas Yield can produce a sequence of values.\n",
    "                    We should use yield when we want to iterate over a sequence, but don’t want to store the entire sequence in memory.\n",
    "                    Yield is used in Python generators. A generator function is defined just like a normal function, but whenever it needs to generate a value,\n",
    "                    it does so with the yield keyword rather than return. If the body of a def contains yield, the function automatically becomes a generator function. \n",
    "\n",
    "'''\n",
    "print(\"For Example:\")\n",
    "def generatorFunction():\n",
    "    for i in range(1,11):\n",
    "        yield i\n",
    "for value in generatorFunction():\n",
    "    print(value)"
   ]
  },
  {
   "cell_type": "code",
   "execution_count": 33,
   "id": "0e060c6c-45d5-4e63-890a-ebae619b3816",
   "metadata": {},
   "outputs": [
    {
     "name": "stdout",
     "output_type": "stream",
     "text": [
      "2\n",
      "3\n",
      "5\n",
      "7\n",
      "11\n",
      "13\n",
      "17\n",
      "19\n",
      "23\n",
      "29\n",
      "31\n",
      "37\n",
      "41\n",
      "43\n",
      "47\n",
      "53\n",
      "59\n",
      "61\n",
      "67\n",
      "71\n"
     ]
    }
   ],
   "source": [
    "#Answer 5\n",
    "# i=2\n",
    "# while i < 1000:\n",
    "#     j=2\n",
    "#     flag = 0\n",
    "#     while j <=(i/2):\n",
    "#         if i%j == 0:\n",
    "#             flag = 1\n",
    "#             break\n",
    "#         j = j+1\n",
    "#     if flag==0:\n",
    "#         print(i)\n",
    "#     i= i+1\n",
    "l = []\n",
    "def primeNumbers():\n",
    "    i=2\n",
    "    while i < 1000:\n",
    "        j=2\n",
    "        flag = 0\n",
    "        while j <=(i/2):\n",
    "            if i%j == 0:\n",
    "                flag = 1\n",
    "                break\n",
    "            j = j+1\n",
    "        if flag==0 and len(l)<20:\n",
    "            l.append(i)\n",
    "        i= i+1\n",
    "    my_iter = iter(l)\n",
    "    for i in l:\n",
    "        yield next(my_iter)\n",
    "for value in primeNumbers():\n",
    "    print(value)"
   ]
  },
  {
   "cell_type": "code",
   "execution_count": 41,
   "id": "3a25cb31-ed6f-4a52-9df6-15c0bf15a4d8",
   "metadata": {},
   "outputs": [
    {
     "name": "stdout",
     "output_type": "stream",
     "text": [
      "1\n",
      "1\n",
      "2\n",
      "3\n",
      "5\n",
      "8\n",
      "13\n",
      "21\n",
      "34\n"
     ]
    }
   ],
   "source": [
    "#Answer 6\n",
    "a = 1\n",
    "b = 0\n",
    "i = 1\n",
    "\n",
    "while i < 10:\n",
    "    print(a)\n",
    "    c = b\n",
    "    b = a\n",
    "    a = a+c\n",
    "    i = i+1\n"
   ]
  },
  {
   "cell_type": "code",
   "execution_count": 6,
   "id": "aa7b3b96-481e-4beb-b1f7-720a8e41337f",
   "metadata": {},
   "outputs": [
    {
     "name": "stdout",
     "output_type": "stream",
     "text": [
      "['p', 'w', 's', 'k', 'i', 'l', 'l', 's']\n"
     ]
    }
   ],
   "source": [
    "#Answer 7\n",
    "s = 'pwskills'\n",
    "result = [i for i in s]\n",
    "print(result)\n"
   ]
  },
  {
   "cell_type": "code",
   "execution_count": 10,
   "id": "a2bdd291-0a12-41ef-9426-c94faf6b5934",
   "metadata": {},
   "outputs": [
    {
     "name": "stdin",
     "output_type": "stream",
     "text": [
      "Enter your number 12211\n"
     ]
    },
    {
     "name": "stdout",
     "output_type": "stream",
     "text": [
      "False\n"
     ]
    }
   ],
   "source": [
    "#Answer 8\n",
    "def checker(s):\n",
    "    l = len(s)\n",
    "    i = 0\n",
    "    while i <= l/2:\n",
    "        if s[i] != s[l-1-i]:\n",
    "            return False\n",
    "        i=i+1\n",
    "    return True\n",
    "\n",
    "\n",
    "s = input(\"Enter your number\")\n",
    "m = checker(s)\n",
    "if m == True:\n",
    "    print(True)\n",
    "else:\n",
    "    print(False)"
   ]
  },
  {
   "cell_type": "code",
   "execution_count": 16,
   "id": "75778f82-ef51-4639-97e1-30bb467cc92c",
   "metadata": {},
   "outputs": [
    {
     "data": {
      "text/plain": [
       "[1,\n",
       " 3,\n",
       " 5,\n",
       " 7,\n",
       " 9,\n",
       " 11,\n",
       " 13,\n",
       " 15,\n",
       " 17,\n",
       " 19,\n",
       " 21,\n",
       " 23,\n",
       " 25,\n",
       " 27,\n",
       " 29,\n",
       " 31,\n",
       " 33,\n",
       " 35,\n",
       " 37,\n",
       " 39,\n",
       " 41,\n",
       " 43,\n",
       " 45,\n",
       " 47,\n",
       " 49,\n",
       " 51,\n",
       " 53,\n",
       " 55,\n",
       " 57,\n",
       " 59,\n",
       " 61,\n",
       " 63,\n",
       " 65,\n",
       " 67,\n",
       " 69,\n",
       " 71,\n",
       " 73,\n",
       " 75,\n",
       " 77,\n",
       " 79,\n",
       " 81,\n",
       " 83,\n",
       " 85,\n",
       " 87,\n",
       " 89,\n",
       " 91,\n",
       " 93,\n",
       " 95,\n",
       " 97,\n",
       " 99]"
      ]
     },
     "execution_count": 16,
     "metadata": {},
     "output_type": "execute_result"
    }
   ],
   "source": [
    "#Answer 9\n",
    "l = []\n",
    "l = [i for i in range(1,101)]\n",
    "l1 = []\n",
    "l1 = [i for i in l if i%2==1]\n",
    "[i for i in l1]"
   ]
  },
  {
   "cell_type": "code",
   "execution_count": null,
   "id": "b99e9211-7d2a-4497-9a4e-f68be803a89d",
   "metadata": {},
   "outputs": [],
   "source": []
  }
 ],
 "metadata": {
  "kernelspec": {
   "display_name": "Python 3 (ipykernel)",
   "language": "python",
   "name": "python3"
  },
  "language_info": {
   "codemirror_mode": {
    "name": "ipython",
    "version": 3
   },
   "file_extension": ".py",
   "mimetype": "text/x-python",
   "name": "python",
   "nbconvert_exporter": "python",
   "pygments_lexer": "ipython3",
   "version": "3.10.8"
  }
 },
 "nbformat": 4,
 "nbformat_minor": 5
}
